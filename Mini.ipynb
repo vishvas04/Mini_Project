{
  "nbformat": 4,
  "nbformat_minor": 0,
  "metadata": {
    "colab": {
      "provenance": [],
      "gpuType": "T4"
    },
    "kernelspec": {
      "name": "python3",
      "display_name": "Python 3"
    },
    "language_info": {
      "name": "python"
    },
    "accelerator": "GPU",
    "gpuClass": "standard"
  },
  "cells": [
    {
      "cell_type": "code",
      "execution_count": null,
      "metadata": {
        "colab": {
          "base_uri": "https://localhost:8080/"
        },
        "id": "1M1wpNH7UpRH",
        "outputId": "e718a2d6-c416-4836-e5b5-952e5f0ec3f9"
      },
      "outputs": [
        {
          "output_type": "stream",
          "name": "stdout",
          "text": [
            "Downloading data from https://storage.googleapis.com/tensorflow/keras-applications/resnet/resnet50_weights_tf_dim_ordering_tf_kernels_notop.h5\n",
            "94765736/94765736 [==============================] - 1s 0us/step\n"
          ]
        }
      ],
      "source": [
        "from tensorflow.keras.applications import ResNet50\n",
        "from tensorflow.keras.models import Sequential\n",
        "from tensorflow.keras.layers import Dense, Flatten, GlobalAveragePooling2D\n",
        "\n",
        "categories = 2\n",
        "\n",
        "model = Sequential()\n",
        "\n",
        "# The fully connected top layer of ResNet50 is not to added in this model\n",
        "model.add(ResNet50(include_top = False, pooling = 'avg', weights = 'imagenet'))\n",
        "\n",
        "# All inputs and outputs are connected to neurons (Dense Layers)\n",
        "# ReLu activation can be used here. Difference --?\n",
        "model.add(Dense(categories, activation='softmax'))\n",
        "model.layers[0].trainable = False\n",
        "\n",
        "model.compile(optimizer = 'sgd', loss = 'categorical_crossentropy', metrics = ['accuracy'])\n"
      ]
    },
    {
      "cell_type": "code",
      "source": [
        "import os\n",
        "print(os.listdir(\"/content/drive/MyDrive/Test\"))"
      ],
      "metadata": {
        "colab": {
          "base_uri": "https://localhost:8080/"
        },
        "id": "Pi5PtoegVOTi",
        "outputId": "ed7db5cd-b89f-43e8-c7d8-aa3fd6778e43"
      },
      "execution_count": null,
      "outputs": [
        {
          "output_type": "stream",
          "name": "stdout",
          "text": [
            "['Glaucomatous', 'Normal']\n"
          ]
        }
      ]
    },
    {
      "cell_type": "code",
      "source": [
        "import glob\n",
        "pngCounter = len(glob.glob1('/content/drive/MyDrive/Test/Glaucomatous',\"*.png\")) + len(glob.glob1('/content/drive/MyDrive/Test/Normal',\"*.png\"))\n",
        "print(pngCounter)"
      ],
      "metadata": {
        "colab": {
          "base_uri": "https://localhost:8080/"
        },
        "id": "q8Py_ZBnVUJP",
        "outputId": "cacb0339-59c1-4b0b-a436-f1d28dc714cc"
      },
      "execution_count": null,
      "outputs": [
        {
          "output_type": "stream",
          "name": "stdout",
          "text": [
            "51\n"
          ]
        }
      ]
    },
    {
      "cell_type": "code",
      "source": [
        "import glob\n",
        "pngCounter = len(glob.glob1('/content/drive/MyDrive/Training/Glaucomatous',\"*.png\")) + len(glob.glob1('/content/drive/MyDrive/Training/Normal',\"*.png\"))\n",
        "print(pngCounter)"
      ],
      "metadata": {
        "colab": {
          "base_uri": "https://localhost:8080/"
        },
        "id": "eeVAICGaVdIB",
        "outputId": "b4e86ebb-6dec-425e-d8f0-7a975211db62"
      },
      "execution_count": null,
      "outputs": [
        {
          "output_type": "stream",
          "name": "stdout",
          "text": [
            "50\n"
          ]
        }
      ]
    },
    {
      "cell_type": "code",
      "source": [
        "model.summary()"
      ],
      "metadata": {
        "colab": {
          "base_uri": "https://localhost:8080/"
        },
        "id": "7QIo0oHcVpN_",
        "outputId": "dc05658c-600a-4654-a326-38022cc3c108"
      },
      "execution_count": null,
      "outputs": [
        {
          "output_type": "stream",
          "name": "stdout",
          "text": [
            "Model: \"sequential\"\n",
            "_________________________________________________________________\n",
            " Layer (type)                Output Shape              Param #   \n",
            "=================================================================\n",
            " resnet50 (Functional)       (None, 2048)              23587712  \n",
            "                                                                 \n",
            " dense (Dense)               (None, 2)                 4098      \n",
            "                                                                 \n",
            "=================================================================\n",
            "Total params: 23,591,810\n",
            "Trainable params: 4,098\n",
            "Non-trainable params: 23,587,712\n",
            "_________________________________________________________________\n"
          ]
        }
      ]
    },
    {
      "cell_type": "code",
      "source": [
        "from tensorflow.keras.preprocessing.image import ImageDataGenerator\n",
        "from tensorflow.keras.applications.resnet50 import preprocess_input\n",
        "\n",
        "data_generator = ImageDataGenerator(preprocess_input)\n",
        "\n",
        "image_size = 224\n",
        "\n",
        "train_generator = data_generator.flow_from_directory(directory = '/content/drive/MyDrive/Training',\n",
        "                                                     target_size = (image_size, image_size),\n",
        "                                                     batch_size = 5,\n",
        "                                                     class_mode = 'categorical')\n",
        "\n",
        "validation_generator = data_generator.flow_from_directory(directory = '/content/drive/MyDrive/Test',\n",
        "                                                          target_size = (image_size, image_size),\n",
        "                                                         batch_size = 51,\n",
        "                                                         class_mode = 'categorical')"
      ],
      "metadata": {
        "colab": {
          "base_uri": "https://localhost:8080/"
        },
        "id": "Os9wFa5XV7pt",
        "outputId": "29f6b94b-bfc1-4449-e4a2-1d23b54e415e"
      },
      "execution_count": null,
      "outputs": [
        {
          "output_type": "stream",
          "name": "stdout",
          "text": [
            "Found 50 images belonging to 2 classes.\n",
            "Found 51 images belonging to 2 classes.\n"
          ]
        }
      ]
    },
    {
      "cell_type": "code",
      "source": [
        "model_fitting = model.fit_generator(\n",
        "        train_generator,\n",
        "        steps_per_epoch=5,\n",
        "        epochs = 4,\n",
        "        validation_data=validation_generator,\n",
        "        validation_steps=1\n",
        ")"
      ],
      "metadata": {
        "colab": {
          "base_uri": "https://localhost:8080/"
        },
        "id": "7Nctz9E0WEZo",
        "outputId": "aad13779-d640-4bbb-8fde-3a5c0cc2006a"
      },
      "execution_count": null,
      "outputs": [
        {
          "output_type": "stream",
          "name": "stderr",
          "text": [
            "<ipython-input-10-16233b98872b>:1: UserWarning: `Model.fit_generator` is deprecated and will be removed in a future version. Please use `Model.fit`, which supports generators.\n",
            "  model_fitting = model.fit_generator(\n"
          ]
        },
        {
          "output_type": "stream",
          "name": "stdout",
          "text": [
            "Epoch 1/4\n",
            "5/5 [==============================] - 5s 1s/step - loss: 1.1039 - accuracy: 0.6800 - val_loss: 0.6731 - val_accuracy: 0.7059\n",
            "Epoch 2/4\n",
            "5/5 [==============================] - 3s 768ms/step - loss: 0.1787 - accuracy: 0.9600 - val_loss: 0.6501 - val_accuracy: 0.7647\n",
            "Epoch 3/4\n",
            "5/5 [==============================] - 4s 909ms/step - loss: 0.6360 - accuracy: 0.8800 - val_loss: 0.6750 - val_accuracy: 0.7451\n",
            "Epoch 4/4\n",
            "5/5 [==============================] - 3s 786ms/step - loss: 1.1749 - accuracy: 0.7600 - val_loss: 0.6346 - val_accuracy: 0.7647\n"
          ]
        }
      ]
    },
    {
      "cell_type": "code",
      "source": [],
      "metadata": {
        "id": "w6wpxmF0Wj0H"
      },
      "execution_count": null,
      "outputs": []
    }
  ]
}