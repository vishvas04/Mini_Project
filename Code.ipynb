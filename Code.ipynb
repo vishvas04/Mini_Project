{
 "cells": [
  {
   "cell_type": "markdown",
   "id": "a7501000",
   "metadata": {},
   "source": [
    "## Diabetic Retinopathy Detection"
   ]
  },
  {
   "cell_type": "code",
   "execution_count": null,
   "id": "c7ba8ecf",
   "metadata": {},
   "outputs": [],
   "source": [
    "import tensorflow as tf\n",
    "from tensorflow.keras.models import Sequential\n",
    "from tensorflow.keras.layers import Conv2D, MaxPooling2D, Flatten, Dense\n",
    "import pandas as pd\n",
    "from sklearn.model_selection import train_test_split\n",
    "import os\n",
    "from tqdm import tqdm\n",
    "from tensorflow.keras.preprocessing.image import ImageDataGenerator\n",
    "from tensorflow.keras.preprocessing import image\n",
    "import numpy as np\n",
    "from tensorflow import keras"
   ]
  },
  {
   "cell_type": "code",
   "execution_count": null,
   "id": "0e33d99f",
   "metadata": {},
   "outputs": [],
   "source": [
    "gpus = tf.config.experimental.list_physical_devices(\"GPU\")\n",
    "for gpu in gpus:\n",
    "    tf.config.experimental.set_memory_growth(gpu,True)"
   ]
  },
  {
   "cell_type": "code",
   "execution_count": null,
   "id": "dadf0555",
   "metadata": {},
   "outputs": [],
   "source": [
    "tf.config.list_physical_devices(\"GPU\")"
   ]
  },
  {
   "cell_type": "code",
   "execution_count": null,
   "id": "a6454e55",
   "metadata": {},
   "outputs": [],
   "source": [
    "print(tf.test.is_built_with_cuda())"
   ]
  },
  {
   "cell_type": "code",
   "execution_count": null,
   "id": "20465c36",
   "metadata": {},
   "outputs": [],
   "source": [
    "df = pd.read_csv(r\"C:\\Users\\manic\\Mini Project implementation\\Data\\train.csv\")\n",
    "df"
   ]
  },
  {
   "cell_type": "code",
   "execution_count": null,
   "id": "7b671467",
   "metadata": {},
   "outputs": [],
   "source": [
    "path= r\"C:\\Users\\manic\\Mini Project implementation\\Data\"\n",
    "\n",
    "train_df , test_df = train_test_split(df,test_size=0.2, random_state=42)\n",
    "train_df.to_csv(path+'\\\\train_s.csv',index=False)\n",
    "test_df.to_csv(path+'\\\\test_s.csv',index=False)"
   ]
  },
  {
   "cell_type": "code",
   "execution_count": null,
   "id": "7265ba34",
   "metadata": {},
   "outputs": [],
   "source": [
    "folder = r\"C:\\Users\\manic\\Mini Project implementation\\Data\\train_images\"\n",
    "train_image_paths = [folder + '\\\\' + img_id +'.png' for img_id in train_df['id_code'].values]\n",
    "test_image_paths = [folder + '\\\\' + img_id + '.png' for img_id in test_df['id_code'].values]"
   ]
  },
  {
   "cell_type": "code",
   "execution_count": null,
   "id": "96794261",
   "metadata": {},
   "outputs": [],
   "source": [
    "def train_func_image_file(x):\n",
    "    folder = r\"C:\\Users\\manic\\Mini Project implementation\\Data\\train_images\"\n",
    "    path = folder + '\\\\' + x +'.png'\n",
    "    return path"
   ]
  },
  {
   "cell_type": "code",
   "execution_count": null,
   "id": "e25befb6",
   "metadata": {},
   "outputs": [],
   "source": [
    "train = pd.read_csv(r\"C:\\Users\\manic\\Mini Project implementation\\Data\\train_s.csv\")\n",
    "train['path'] = train['id_code'].apply(train_func_image_file)"
   ]
  },
  {
   "cell_type": "code",
   "execution_count": null,
   "id": "cf2c5b1b",
   "metadata": {},
   "outputs": [],
   "source": [
    "test = pd.read_csv(r\"C:\\Users\\manic\\Mini Project implementation\\Data\\test_s.csv\")\n",
    "test['path'] = test['id_code'].apply(train_func_image_file)"
   ]
  },
  {
   "cell_type": "code",
   "execution_count": null,
   "id": "7619c701",
   "metadata": {},
   "outputs": [],
   "source": [
    "train_labels = train['diagnosis'].values\n",
    "test_labels = test['diagnosis'].values"
   ]
  },
  {
   "cell_type": "code",
   "execution_count": null,
   "id": "96dcf750",
   "metadata": {},
   "outputs": [],
   "source": [
    "input_shape = (224,224,3)\n",
    "num_classes = 5"
   ]
  },
  {
   "cell_type": "code",
   "execution_count": null,
   "id": "ae3a0299",
   "metadata": {},
   "outputs": [],
   "source": [
    "train_image = []\n",
    "for i in tqdm(range(train.shape[0])):\n",
    "    img = image.load_img(train['path'][i],target_size=input_shape,interpolation='nearest')\n",
    "    img = image.img_to_array(img)\n",
    "    img = img/255\n",
    "    train_image.append(img)"
   ]
  },
  {
   "cell_type": "code",
   "execution_count": null,
   "id": "b4ebf7f1",
   "metadata": {},
   "outputs": [],
   "source": [
    "x_train = np.array(train_image)"
   ]
  },
  {
   "cell_type": "code",
   "execution_count": null,
   "id": "446becba",
   "metadata": {},
   "outputs": [],
   "source": [
    "y_train = train['diagnosis']\n",
    "y_train = keras.utils.to_categorical(y_train,5)"
   ]
  },
  {
   "cell_type": "code",
   "execution_count": null,
   "id": "0fde345e",
   "metadata": {},
   "outputs": [],
   "source": [
    "y_test = test['diagnosis']\n",
    "y_test = keras.utils.to_categorical(y_test,5)"
   ]
  },
  {
   "cell_type": "code",
   "execution_count": null,
   "id": "deab521e",
   "metadata": {},
   "outputs": [],
   "source": [
    "test_image = []\n",
    "for i in tqdm(range(test.shape[0])):\n",
    "    img = image.load_img(test['path'][i],target_size=input_shape,interpolation='nearest')\n",
    "    img = image.img_to_array(img)\n",
    "    img = img/255\n",
    "    test_image.append(img)\n",
    "x_test = np.array(test_image)"
   ]
  },
  {
   "cell_type": "code",
   "execution_count": null,
   "id": "70a9e3c7",
   "metadata": {},
   "outputs": [],
   "source": [
    "# Define the CNN model\n",
    "model = Sequential()\n",
    "model.add(Conv2D(32, (3, 3), activation='relu', input_shape=input_shape))\n",
    "model.add(MaxPooling2D((2, 2)))\n",
    "model.add(Conv2D(64, (3, 3), activation='relu'))\n",
    "model.add(MaxPooling2D((2, 2)))\n",
    "model.add(Conv2D(128, (3, 3), activation='relu'))\n",
    "model.add(MaxPooling2D((2, 2)))\n",
    "model.add(Flatten())\n",
    "model.add(Dense(128, activation='relu'))\n",
    "model.add(Dense(num_classes, activation='softmax'))\n",
    "\n"
   ]
  },
  {
   "cell_type": "code",
   "execution_count": null,
   "id": "9f764b7f",
   "metadata": {},
   "outputs": [],
   "source": [
    "# Compile the model\n",
    "model.compile(optimizer='adam', loss='categorical_crossentropy', metrics=['accuracy'])\n",
    "\n",
    "# Train the model\n",
    "model.fit(x_train, y_train, batch_size=32, epochs=3,validation_split = 0.2)\n",
    "# Evaluate the model\n",
    "accuracy = model.evaluate(x_test, y_test)[1]"
   ]
  },
  {
   "cell_type": "markdown",
   "id": "dc1e6bbe",
   "metadata": {},
   "source": [
    "## Hyperparameter tuning"
   ]
  },
  {
   "cell_type": "code",
   "execution_count": null,
   "id": "4b1c6022",
   "metadata": {},
   "outputs": [],
   "source": [
    "!pip install -q -U keras-tuner"
   ]
  },
  {
   "cell_type": "code",
   "execution_count": null,
   "id": "632eea9b",
   "metadata": {},
   "outputs": [],
   "source": [
    "import keras_tuner as kt"
   ]
  },
  {
   "cell_type": "code",
   "execution_count": null,
   "id": "2e0689a2",
   "metadata": {},
   "outputs": [],
   "source": [
    "def model_builder(hp):\n",
    "    model_2 = Sequential()\n",
    "    model_2.add(Conv2D(32, (3, 3), activation='relu', input_shape=input_shape))\n",
    "    model_2.add(MaxPooling2D((2, 2)))\n",
    "    model_2.add(Conv2D(64, (3, 3), activation='relu'))\n",
    "    model_2.add(MaxPooling2D((2, 2)))\n",
    "    model_2.add(Conv2D(128, (3, 3), activation='relu'))\n",
    "    model_2.add(MaxPooling2D((2, 2)))\n",
    "    model_2.add(Flatten())\n",
    "    model_2.add(Dense(128, activation='relu'))\n",
    "    model_2.add(Dense(num_classes, activation='softmax'))\n",
    "    \n",
    "    hp_learning_rate = hp.Choice('learning_rate', values=[1e-2, 1e-3, 1e-4])\n",
    "\n",
    "# Compile the model\n",
    "    model_2.compile(optimizer=keras.optimizers.Adam(learning_rate=hp_learning_rate),loss='categorical_crossentropy', metrics=['accuracy'])\n",
    "    \n",
    "    return model_2"
   ]
  },
  {
   "cell_type": "code",
   "execution_count": null,
   "id": "370b7315",
   "metadata": {},
   "outputs": [],
   "source": [
    "tuner = kt.Hyperband(model_builder, objective='val_accuracy',max_epochs=10,factor=3)"
   ]
  },
  {
   "cell_type": "code",
   "execution_count": null,
   "id": "b6bc9477",
   "metadata": {},
   "outputs": [],
   "source": [
    "stop_early = tf.keras.callbacks.EarlyStopping(monitor='val_loss', patience=5)"
   ]
  },
  {
   "cell_type": "code",
   "execution_count": null,
   "id": "69d7f632",
   "metadata": {},
   "outputs": [],
   "source": [
    "tuner.search(x_train,y_train, epochs=10, validation_split=0.2, callbacks=[stop_early])"
   ]
  },
  {
   "cell_type": "code",
   "execution_count": null,
   "id": "ea96f960",
   "metadata": {},
   "outputs": [],
   "source": [
    "best_hps = tuner.get_best_hyperparameters(num_trials=1)[0]\n",
    "\n",
    "print(f\"\"\"\n",
    "The hyperparameter search is complete.The optimal learning rate for the optimizer\n",
    "is {best_hps.get('learning_rate')}.\n",
    "\"\"\")"
   ]
  },
  {
   "cell_type": "code",
   "execution_count": null,
   "id": "b8dc0e79",
   "metadata": {},
   "outputs": [],
   "source": [
    "model_2 = tuner.hypermodel.build(best_hps)\n",
    "history = model_2.fit(x_train,y_train, epochs=10, validation_split=0.2)\n",
    "\n",
    "val_acc_per_epoch = history.history['val_accuracy']\n",
    "best_epoch = val_acc_per_epoch.index(max(val_acc_per_epoch)) + 1\n",
    "print('Best epoch: %d' % (best_epoch,))"
   ]
  },
  {
   "cell_type": "code",
   "execution_count": null,
   "id": "b7334730",
   "metadata": {},
   "outputs": [],
   "source": [
    "eval_result = model_2.evaluate(x_test,y_test)\n",
    "print(\"[test loss, test accuracy]:\", eval_result)"
   ]
  }
 ],
 "metadata": {
  "kernelspec": {
   "display_name": "Python 3 (ipykernel)",
   "language": "python",
   "name": "python3"
  },
  "language_info": {
   "codemirror_mode": {
    "name": "ipython",
    "version": 3
   },
   "file_extension": ".py",
   "mimetype": "text/x-python",
   "name": "python",
   "nbconvert_exporter": "python",
   "pygments_lexer": "ipython3",
   "version": "3.11.3"
  }
 },
 "nbformat": 4,
 "nbformat_minor": 5
}
